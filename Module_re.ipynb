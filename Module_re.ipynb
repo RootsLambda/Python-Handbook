{
 "cells": [
  {
   "cell_type": "markdown",
   "metadata": {},
   "source": [
    "**Câu 190:** Câu 21: Một website yêu cầu người dùng nhập tên người dùng và mật khẩu để đăng ký. Viết chương trình để kiểm tra tính hợp lệ của mật khẩu mà người dùng nhập vào.\n",
    "\n",
    "Các tiêu chí kiểm tra mật khẩu bao gồm:\n",
    "\n",
    "1. Ít nhất 1 chữ cái nằm trong [a-z]\n",
    "2. Ít nhất 1 số nằm trong [0-9]\n",
    "3. Ít nhất 1 kí tự nằm trong [A-Z]\n",
    "4. Ít nhất 1 ký tự nằm trong [$ # @]\n",
    "5. Độ dài mật khẩu tối thiểu: 6\n",
    "6. Độ dài mật khẩu tối đa: 12\n",
    "\n",
    "Chương trình phải chấp nhận một chuỗi mật khẩu phân tách nhau bởi dấu phẩy và kiểm tra xem chúng có đáp ứng những tiêu chí trên hay không. Mật khẩu hợp lệ sẽ được in, mỗi mật khẩu cách nhau bởi dấu phẩy.\n",
    "\n",
    "<div style=\"padding: 15px; border: 2px solid transparent; border-color: transparent; margin-bottom: 5px; margin-top: 10px;border-radius: 2px; color: #000000; background-color:#A4D3EE; border-color: #FFD39B;Width:60%\">\n",
    "\n",
    "Example:\n",
    "\n",
    "Input: ABd1234@1,a F1#,2w3E*,2We3345\n",
    "\n",
    "Output: ABd1234@1\n",
    "\n",
    "</div>"
   ]
  },
  {
   "cell_type": "code",
   "execution_count": 1,
   "metadata": {},
   "outputs": [
    {
     "name": "stdout",
     "output_type": "stream",
     "text": [
      "Nhập mật khẩu: ABd1234@1,a F1#,2w3E*,2We3345\n",
      "ABd1234@1\n"
     ]
    }
   ],
   "source": [
    "import re\n",
    "value = []\n",
    "items=[x for x in input(\"Nhập mật khẩu: \").split(',')]\n",
    "\n",
    "for p in items:\n",
    "    if len(p)<6 or len(p)>12:\n",
    "        continue\n",
    "    else:\n",
    "        pass\n",
    "    if not re.search(\"[a-z]\",p):\n",
    "        continue\n",
    "    elif not re.search(\"[0-9]\",p):\n",
    "        continue\n",
    "    elif not re.search(\"[A-Z]\",p):\n",
    "        continue\n",
    "    elif not re.search(\"[$#@]\",p):\n",
    "        continue\n",
    "    elif re.search(\"\\s\",p):\n",
    "        continue\n",
    "    else:\n",
    "        pass\n",
    "    value.append(p)\n",
    "print (\",\".join(value))"
   ]
  },
  {
   "cell_type": "markdown",
   "metadata": {},
   "source": [
    "**Câu 176:** Giả sử rằng chúng ta có vài địa chỉ email dạng username@companyname\\.com, hãy viết một chương trình để in companyname của địa chỉ email cụ thể. Cả username và companyname chỉ bao gồm chữ cái."
   ]
  },
  {
   "cell_type": "code",
   "execution_count": 2,
   "metadata": {},
   "outputs": [
    {
     "name": "stdout",
     "output_type": "stream",
     "text": [
      "cracker@lambda.com\n",
      "lambda\n"
     ]
    }
   ],
   "source": [
    "import re\n",
    "emailAddress = input()\n",
    "pat2 = \"(\\w+)@(\\w+)\\.(com)\"\n",
    "r2 = re.match(pat2,emailAddress)\n",
    "print (r2.group(2))"
   ]
  },
  {
   "cell_type": "markdown",
   "metadata": {},
   "source": [
    "**Câu 174:** Giả sử rằng chúng ta có vài địa chỉ email dạng username@companyname\\.com, hãy viết một chương trình để in username của địa chỉ email cụ thể. Cả username và companyname chỉ bao gồm chữ cái.\n",
    "\n",
    "<div style=\"padding: 15px; border: 2px solid transparent; border-color: transparent; margin-bottom: 5px; margin-top: 10px;border-radius: 2px; color: #000000; background-color:#A4D3EE; border-color: #FFD39B;Width:60%\">\n",
    "\n",
    "Example:\n",
    "<br>\n",
    "<br>\n",
    "Input: cracker@lambda\\.com\n",
    "<br>\n",
    "<br>\n",
    "Output: cracker\n",
    "\n",
    "</div>\n"
   ]
  },
  {
   "cell_type": "code",
   "execution_count": 3,
   "metadata": {},
   "outputs": [
    {
     "name": "stdout",
     "output_type": "stream",
     "text": [
      "cracker@lambda.com\n",
      "cracker\n"
     ]
    }
   ],
   "source": [
    "import re\n",
    "emailAddress = input()\n",
    "pat2 = \"(\\w+)@((\\w+\\.)+(com))\"\n",
    "re2 = re.match(pat2,emailAddress)\n",
    "print (re2.group(1))"
   ]
  },
  {
   "cell_type": "code",
   "execution_count": null,
   "metadata": {},
   "outputs": [],
   "source": []
  }
 ],
 "metadata": {
  "kernelspec": {
   "display_name": "Python 3",
   "language": "python",
   "name": "python3"
  },
  "language_info": {
   "codemirror_mode": {
    "name": "ipython",
    "version": 3
   },
   "file_extension": ".py",
   "mimetype": "text/x-python",
   "name": "python",
   "nbconvert_exporter": "python",
   "pygments_lexer": "ipython3",
   "version": "3.7.0"
  }
 },
 "nbformat": 4,
 "nbformat_minor": 2
}
