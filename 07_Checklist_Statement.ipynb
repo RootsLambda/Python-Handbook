{
 "cells": [
  {
   "cell_type": "markdown",
   "metadata": {},
   "source": [
    "\n",
    "\n",
    "`if/elif/else`:\n",
    "\n",
    "`for/else`:\n",
    "\n",
    "`while/else`:\n",
    "\n",
    "`pass`:\n",
    "\n",
    "`break`:\n",
    "\n",
    "`continue`:\n",
    "\n",
    "`def`:\n",
    "\n",
    "`retunr`:\n",
    "\n",
    "`yeild`:\n",
    "\n",
    "`global`:\n",
    "\n",
    "`nonlocal`:\n",
    "\n",
    "`import`:\n",
    "\n",
    "`from`:\n",
    "\n",
    "`class`:\n",
    "\n",
    "`try/except/finally`:\n",
    "\n",
    "`raise`:\n",
    "\n",
    "`assert`:\n",
    "\n",
    "`with/as`:\n",
    "\n",
    "`del`:\n",
    "\n",
    "`is`:\n",
    "\n",
    "`in`:\n",
    "\n",
    "`and/not/or`:\n",
    "\n",
    "`lambda`:\n"
   ]
  },
  {
   "cell_type": "code",
   "execution_count": 4,
   "metadata": {},
   "outputs": [
    {
     "name": "stdout",
     "output_type": "stream",
     "text": [
      "5\n",
      "Ngày mai là giáng sinh\n",
      "5\n"
     ]
    }
   ],
   "source": [
    "def tester():\n",
    "    print(\"Ngày mai là giáng sinh\")\n",
    "a=5\n",
    "print(a)\n",
    "if __name__=='__main__':\n",
    "    tester()\n",
    "    print('5')"
   ]
  },
  {
   "cell_type": "code",
   "execution_count": null,
   "metadata": {},
   "outputs": [],
   "source": []
  }
 ],
 "metadata": {
  "kernelspec": {
   "display_name": "Python 3",
   "language": "python",
   "name": "python3"
  },
  "language_info": {
   "codemirror_mode": {
    "name": "ipython",
    "version": 3
   },
   "file_extension": ".py",
   "mimetype": "text/x-python",
   "name": "python",
   "nbconvert_exporter": "python",
   "pygments_lexer": "ipython3",
   "version": "3.7.0"
  }
 },
 "nbformat": 4,
 "nbformat_minor": 2
}
