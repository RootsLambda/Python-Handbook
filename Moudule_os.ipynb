{
 "cells": [
  {
   "cell_type": "markdown",
   "metadata": {},
   "source": [
    "# 1. Giới thiệu\n",
    "Module os trong Python cung cấp các chức năng được sử dụng để tương tác với hệ điều hành và cũng có được thông tin liên quan về nó. OS đi theo các Module tiện ích tiêu chuẩn của Python. Module này cung cấp một cách linh động sử dụng chức năng phụ thuộc vào hệ điều hành.\n",
    "\n",
    "Module os trong python cho phép chúng ta làm việc với các tập tin và thư mục"
   ]
  },
  {
   "cell_type": "markdown",
   "metadata": {},
   "source": [
    "## os.name"
   ]
  },
  {
   "cell_type": "code",
   "execution_count": 2,
   "metadata": {},
   "outputs": [
    {
     "data": {
      "text/plain": [
       "'nt'"
      ]
     },
     "execution_count": 2,
     "metadata": {},
     "output_type": "execute_result"
    }
   ],
   "source": [
    "import os\n",
    "os.name"
   ]
  },
  {
   "cell_type": "markdown",
   "metadata": {},
   "source": [
    "Hàm này cung cấp tên của Module os được import."
   ]
  },
  {
   "cell_type": "markdown",
   "metadata": {},
   "source": [
    "## os.getcwd()"
   ]
  },
  {
   "cell_type": "code",
   "execution_count": 3,
   "metadata": {},
   "outputs": [
    {
     "data": {
      "text/plain": [
       "'C:\\\\Users\\\\AM\\\\Al và ứng dụng'"
      ]
     },
     "execution_count": 3,
     "metadata": {},
     "output_type": "execute_result"
    }
   ],
   "source": [
    "os.getcwd()"
   ]
  },
  {
   "cell_type": "markdown",
   "metadata": {},
   "source": [
    "Nó trả về thư mục làm việc hiện tại (Current work directory) của tệp."
   ]
  },
  {
   "cell_type": "markdown",
   "metadata": {},
   "source": [
    "## Tạo thư mục os.mkdir()"
   ]
  },
  {
   "cell_type": "code",
   "execution_count": 5,
   "metadata": {},
   "outputs": [],
   "source": [
    "os.mkdir('test')"
   ]
  },
  {
   "cell_type": "markdown",
   "metadata": {},
   "source": [
    "## Xóa thư mục os.rmdir()"
   ]
  },
  {
   "cell_type": "code",
   "execution_count": 6,
   "metadata": {},
   "outputs": [],
   "source": [
    "os.rmdir('test')"
   ]
  },
  {
   "cell_type": "markdown",
   "metadata": {},
   "source": [
    "## Đọc nội dung thư mục os.listdir()"
   ]
  },
  {
   "cell_type": "code",
   "execution_count": 7,
   "metadata": {},
   "outputs": [
    {
     "data": {
      "text/plain": [
       "['.ipynb_checkpoints',\n",
       " 'Binary_Classification.ipynb',\n",
       " 'Cây_quyết_định.ipynb',\n",
       " 'Define.ipynb',\n",
       " 'Ensemble.ipynb',\n",
       " 'Hoi_quy_Logistic.ipynb',\n",
       " 'Hồi_quy_tuyến_tính.ipynb',\n",
       " 'Image Gray.ipynb',\n",
       " 'K_Means_Application.ipynb',\n",
       " 'K_means_clustering.ipynb',\n",
       " 'Linear_Regression.ipynb',\n",
       " 'List and generator.ipynb',\n",
       " 'Logistic_Regression.ipynb',\n",
       " 'Moudule_os.ipynb',\n",
       " 'Multiclass SVM.ipynb',\n",
       " 'Multilayer_Perceptron.ipynb',\n",
       " 'Máy_hỗ trợ_vector.ipynb',\n",
       " 'PCA.ipynb',\n",
       " 'pima-indians-diabetes.csv',\n",
       " 'Preprocessing.ipynb',\n",
       " 'PTVP.ipynb',\n",
       " 'python.txt',\n",
       " 'seg.jpg',\n",
       " 'Softmax_Regression.ipynb',\n",
       " 'Support Vector Machine.ipynb',\n",
       " 'SVD.ipynb',\n",
       " 'Tree_Decision.ipynb',\n",
       " 'Untitled.ipynb',\n",
       " 'water_potability.csv',\n",
       " 'weather_austrilia.ipynb']"
      ]
     },
     "execution_count": 7,
     "metadata": {},
     "output_type": "execute_result"
    }
   ],
   "source": [
    "os.listdir('C:/Users/AM/Al và ứng dụng')"
   ]
  },
  {
   "cell_type": "markdown",
   "metadata": {},
   "source": [
    "### + os.chdir(path): thay đổi đường dẫn làm việc của thư mục hiện hành (không phải là thay đổi tên hay di chuyển thư mục từ nơi này sang nơi khác) vào thư mục khác giống cd trên command prompt\n",
    "### + os.removedirs(path): xóa một đường dẫn có recursive"
   ]
  },
  {
   "cell_type": "code",
   "execution_count": 20,
   "metadata": {},
   "outputs": [
    {
     "name": "stdout",
     "output_type": "stream",
     "text": [
      "C:\\Users\\AM\\Al và ứng dụng\n",
      "C:\\Users\\AM\\Al và ứng dụng\n"
     ]
    }
   ],
   "source": [
    "import os\n",
    " \n",
    "\n",
    "print(os.getcwd())\n",
    "os.chdir('C:/Users/AM/Al và ứng dụng')\n",
    " \n",
    "#xem lại sau khi đổi chúng ta đang ở đâu\n",
    "print(os.getcwd())\n",
    " "
   ]
  },
  {
   "cell_type": "code",
   "execution_count": 23,
   "metadata": {},
   "outputs": [
    {
     "name": "stdout",
     "output_type": "stream",
     "text": [
      "['.ipynb_checkpoints', '04_Functional_programming.ipynb', '05_Benchmarking_Interlude.ipynb', '06_Advanced_Module.ipynb', '07_OOP_Basics.ipynb', '08_Design_Classes.ipynb', '09_Opeator_Overloading_OOP.ipynb', '10_Access_Modifiers.ipynb', '10_Classes.ipynb', '11_Decorators.ipynb', '12_Metaclasses.ipynb', '13_Design_Exception.ipynb', '14_Exceptions.ipynb', '15_Test_Case.ipynb', 'data.bin', 'Generator.ipynb', 'latindata', 'mybooks.xml', 'temp', 'utf8data']\n",
      "['.ipynb_checkpoints', '04_Functional_programming.ipynb', '05_Benchmarking_Interlude.ipynb', '06_Advanced_Module.ipynb', '07_OOP_Basics.ipynb', '08_Design_Classes.ipynb', '09_Opeator_Overloading_OOP.ipynb', '10_Access_Modifiers.ipynb', '10_Classes.ipynb', '11_Decorators.ipynb', '12_Metaclasses.ipynb', '13_Design_Exception.ipynb', '14_Exceptions.ipynb', '15_Test_Case.ipynb', 'data.bin', 'Generator.ipynb', 'latindata', 'mybooks.xml', 'temp', 'testdir', 'utf8data']\n"
     ]
    }
   ],
   "source": [
    "import os\n",
    " \n",
    "path = 'C:/Users/AM/Python_Advanced'\n",
    " \n",
    "#di chuyển đến thư mục đích\n",
    "os.chdir(path)\n",
    "print(os.listdir(path))\n",
    " \n",
    "#tạo một thưu mục mới có tên là testdir\n",
    "os.mkdir('testdir')\n",
    "print(os.listdir(path))\n",
    " "
   ]
  },
  {
   "cell_type": "code",
   "execution_count": 25,
   "metadata": {},
   "outputs": [
    {
     "name": "stdout",
     "output_type": "stream",
     "text": [
      "['.ipynb_checkpoints', '04_Functional_programming.ipynb', '05_Benchmarking_Interlude.ipynb', '06_Advanced_Module.ipynb', '07_OOP_Basics.ipynb', '08_Design_Classes.ipynb', '09_Opeator_Overloading_OOP.ipynb', '10_Access_Modifiers.ipynb', '10_Classes.ipynb', '11_Decorators.ipynb', '12_Metaclasses.ipynb', '13_Design_Exception.ipynb', '14_Exceptions.ipynb', '15_Test_Case.ipynb', 'data.bin', 'Generator.ipynb', 'latindata', 'mybooks.xml', 'temp', 'utf8data']\n"
     ]
    }
   ],
   "source": [
    "os.getcwd()\n",
    "os.rmdir('testdir')\n",
    "print(os.listdir(path))"
   ]
  },
  {
   "cell_type": "markdown",
   "metadata": {},
   "source": [
    "## os.path"
   ]
  },
  {
   "cell_type": "markdown",
   "metadata": {},
   "source": [
    "### + os.path.exists(path): kiểm tra một đường dẫn có tồn tại hay không\n",
    "### + os.path.getfile(path): lấy file size (byte)\n",
    "### + os.path.isdir(path): kiểm tra xem có phải là một thư mục\n",
    "### + os.path.dirname(path): trả về tên thư mục của path\n",
    "### + os.path.getatime(path): trả về thời gian truy cập mới nhất\n",
    "### + os.path.getmtime(path): trả về thời gian chỉnh sửa cuối cùng\n",
    "### + os.path.getctime(path): trả về thời gian chỉnh sưả cuối của metadata trên hệ thống. Hoặc trả về thời gian tạo trên Windows"
   ]
  },
  {
   "cell_type": "markdown",
   "metadata": {},
   "source": [
    "## Duyệt qua hệ thống tệp os.walk() "
   ]
  },
  {
   "cell_type": "code",
   "execution_count": 5,
   "metadata": {},
   "outputs": [
    {
     "name": "stdout",
     "output_type": "stream",
     "text": [
      "C:\\Users\\AM\\Al và ứng dụng\n",
      "['.ipynb_checkpoints']\n",
      "['Binary_Classification.ipynb', 'CNN_image.ipynb', 'Define.ipynb', 'Hoi_quy_Logistic.ipynb', 'Hồi_quy_tuyến_tính.ipynb', 'K_Means_Application.ipynb', 'K_means_clustering.ipynb', 'Linear_Regression.ipynb', 'List and generator.ipynb', 'Logistic_Regression.ipynb', 'May_Vecto_hotro.ipynb', 'Multiclass SVM.ipynb', 'Multilayer_Perceptron.ipynb', 'OS.ipynb', 'pima-indians-diabetes.csv', 'Preprocessing.ipynb', 'seg.jpg', 'Softmax_Regression.ipynb', 'Support Vector Machine.ipynb', 'Tree_Decision.ipynb', 'water_potability.csv']\n",
      "--------------------------------\n",
      "C:\\Users\\AM\\Al và ứng dụng\\.ipynb_checkpoints\n",
      "[]\n",
      "['Binary_Classification-checkpoint.ipynb', 'CNN_image-checkpoint.ipynb', 'Define-checkpoint.ipynb', 'Hoi_quy_Logistic-checkpoint.ipynb', 'Hồi_quy_tuyến_tính-checkpoint.ipynb', 'K_Means_Application-checkpoint.ipynb', 'K_means_clustering-checkpoint.ipynb', 'Linear_Regression-checkpoint.ipynb', 'List and generator-checkpoint.ipynb', 'Logistic_Regression-checkpoint.ipynb', 'May_Vecto_hotro-checkpoint.ipynb', 'Multiclass SVM-checkpoint.ipynb', 'Multilayer_Perceptron-checkpoint.ipynb', 'OS-checkpoint.ipynb', 'Preprocessing-checkpoint.ipynb', 'Softmax_Regression-checkpoint.ipynb', 'Support Vector Machine-checkpoint.ipynb', 'Tree_Decision-checkpoint.ipynb']\n",
      "--------------------------------\n"
     ]
    }
   ],
   "source": [
    "import os\n",
    "for (root,dirs,files) in os.walk('C:\\\\Users\\AM\\Al và ứng dụng', topdown=True):\n",
    "    print(root)\n",
    "    print(dirs)\n",
    "    print(files)\n",
    "    print('--------------------------------')\n",
    " "
   ]
  },
  {
   "cell_type": "markdown",
   "metadata": {},
   "source": [
    "os.walk() duyệt tệp trong thư mục bằng cách di chuyển cây từ trên xuống hoặc từ dưới lên trên gồm 3 bộ ba(dirpath,dirnames,dirfile)\n",
    "+ root: chỉ in ra các thư mục những gì từ bạn chỉ định\n",
    "+ dirs: in ra các thư mục con từ root\n",
    "+ files: in ra tất cả các tệp tin từ thư mục gốc và thư mục"
   ]
  },
  {
   "cell_type": "code",
   "execution_count": 16,
   "metadata": {},
   "outputs": [
    {
     "data": {
      "text/plain": [
       "['DirEntry',\n",
       " 'F_OK',\n",
       " 'MutableMapping',\n",
       " 'O_APPEND',\n",
       " 'O_BINARY',\n",
       " 'O_CREAT',\n",
       " 'O_EXCL',\n",
       " 'O_NOINHERIT',\n",
       " 'O_RANDOM',\n",
       " 'O_RDONLY',\n",
       " 'O_RDWR',\n",
       " 'O_SEQUENTIAL',\n",
       " 'O_SHORT_LIVED',\n",
       " 'O_TEMPORARY',\n",
       " 'O_TEXT',\n",
       " 'O_TRUNC',\n",
       " 'O_WRONLY',\n",
       " 'P_DETACH',\n",
       " 'P_NOWAIT',\n",
       " 'P_NOWAITO',\n",
       " 'P_OVERLAY',\n",
       " 'P_WAIT',\n",
       " 'PathLike',\n",
       " 'R_OK',\n",
       " 'SEEK_CUR',\n",
       " 'SEEK_END',\n",
       " 'SEEK_SET',\n",
       " 'TMP_MAX',\n",
       " 'W_OK',\n",
       " 'X_OK',\n",
       " '_Environ',\n",
       " '__all__',\n",
       " '__builtins__',\n",
       " '__cached__',\n",
       " '__doc__',\n",
       " '__file__',\n",
       " '__loader__',\n",
       " '__name__',\n",
       " '__package__',\n",
       " '__spec__',\n",
       " '_execvpe',\n",
       " '_exists',\n",
       " '_exit',\n",
       " '_fspath',\n",
       " '_get_exports_list',\n",
       " '_putenv',\n",
       " '_unsetenv',\n",
       " '_wrap_close',\n",
       " 'abc',\n",
       " 'abort',\n",
       " 'access',\n",
       " 'altsep',\n",
       " 'chdir',\n",
       " 'chmod',\n",
       " 'close',\n",
       " 'closerange',\n",
       " 'cpu_count',\n",
       " 'curdir',\n",
       " 'defpath',\n",
       " 'device_encoding',\n",
       " 'devnull',\n",
       " 'dup',\n",
       " 'dup2',\n",
       " 'environ',\n",
       " 'error',\n",
       " 'execl',\n",
       " 'execle',\n",
       " 'execlp',\n",
       " 'execlpe',\n",
       " 'execv',\n",
       " 'execve',\n",
       " 'execvp',\n",
       " 'execvpe',\n",
       " 'extsep',\n",
       " 'fdopen',\n",
       " 'fsdecode',\n",
       " 'fsencode',\n",
       " 'fspath',\n",
       " 'fstat',\n",
       " 'fsync',\n",
       " 'ftruncate',\n",
       " 'get_exec_path',\n",
       " 'get_handle_inheritable',\n",
       " 'get_inheritable',\n",
       " 'get_terminal_size',\n",
       " 'getcwd',\n",
       " 'getcwdb',\n",
       " 'getenv',\n",
       " 'getlogin',\n",
       " 'getpid',\n",
       " 'getppid',\n",
       " 'isatty',\n",
       " 'kill',\n",
       " 'linesep',\n",
       " 'link',\n",
       " 'listdir',\n",
       " 'lseek',\n",
       " 'lstat',\n",
       " 'makedirs',\n",
       " 'mkdir',\n",
       " 'name',\n",
       " 'open',\n",
       " 'pardir',\n",
       " 'path',\n",
       " 'pathsep',\n",
       " 'pipe',\n",
       " 'popen',\n",
       " 'putenv',\n",
       " 'read',\n",
       " 'readlink',\n",
       " 'remove',\n",
       " 'removedirs',\n",
       " 'rename',\n",
       " 'renames',\n",
       " 'replace',\n",
       " 'rmdir',\n",
       " 'scandir',\n",
       " 'sep',\n",
       " 'set_handle_inheritable',\n",
       " 'set_inheritable',\n",
       " 'spawnl',\n",
       " 'spawnle',\n",
       " 'spawnv',\n",
       " 'spawnve',\n",
       " 'st',\n",
       " 'startfile',\n",
       " 'stat',\n",
       " 'stat_result',\n",
       " 'statvfs_result',\n",
       " 'strerror',\n",
       " 'supports_bytes_environ',\n",
       " 'supports_dir_fd',\n",
       " 'supports_effective_ids',\n",
       " 'supports_fd',\n",
       " 'supports_follow_symlinks',\n",
       " 'symlink',\n",
       " 'sys',\n",
       " 'system',\n",
       " 'terminal_size',\n",
       " 'times',\n",
       " 'times_result',\n",
       " 'truncate',\n",
       " 'umask',\n",
       " 'uname_result',\n",
       " 'unlink',\n",
       " 'urandom',\n",
       " 'utime',\n",
       " 'waitpid',\n",
       " 'walk',\n",
       " 'write']"
      ]
     },
     "execution_count": 16,
     "metadata": {},
     "output_type": "execute_result"
    }
   ],
   "source": [
    "dir(os)"
   ]
  },
  {
   "cell_type": "markdown",
   "metadata": {},
   "source": [
    "## os.error()"
   ]
  },
  {
   "cell_type": "code",
   "execution_count": 8,
   "metadata": {},
   "outputs": [
    {
     "data": {
      "text/plain": [
       "OSError()"
      ]
     },
     "execution_count": 8,
     "metadata": {},
     "output_type": "execute_result"
    }
   ],
   "source": [
    "os.error()"
   ]
  },
  {
   "cell_type": "markdown",
   "metadata": {},
   "source": [
    "## os.popen()"
   ]
  },
  {
   "cell_type": "code",
   "execution_count": 9,
   "metadata": {},
   "outputs": [
    {
     "name": "stdout",
     "output_type": "stream",
     "text": [
      "Hello Python!\n"
     ]
    },
    {
     "data": {
      "text/plain": [
       "13"
      ]
     },
     "execution_count": 9,
     "metadata": {},
     "output_type": "execute_result"
    }
   ],
   "source": [
    "import os\n",
    "fd = \"python.txt\"\n",
    "file = open(fd, 'w')\n",
    "file.write(\"Hello Python!\")\n",
    "file.close()\n",
    "\n",
    "file = open(fd, 'r')\n",
    "text = file.read()\n",
    "print(text)\n",
    " \n",
    "# popen() cung cấp cổng kết nối và truy cập file trực tiếp\n",
    "file = os.popen(fd, 'w')\n",
    "file.write(\"Hello Python!\")"
   ]
  },
  {
   "cell_type": "markdown",
   "metadata": {},
   "source": [
    "Hàm này mở một tệp đến hoặc từ lệnh được chỉ định và nó trả về một đối tượng tệp được kết nối với một pipe."
   ]
  },
  {
   "cell_type": "markdown",
   "metadata": {},
   "source": [
    "## os.path.join()"
   ]
  },
  {
   "cell_type": "code",
   "execution_count": 40,
   "metadata": {},
   "outputs": [
    {
     "data": {
      "text/plain": [
       "'Users\\\\AM\\\\Al và ứng dụng\\\\text.txt'"
      ]
     },
     "execution_count": 40,
     "metadata": {},
     "output_type": "execute_result"
    }
   ],
   "source": [
    "path=\"Users\\AM\"\n",
    "os.path.join(path,'Al và ứng dụng','text.txt')\n",
    "\n",
    "#C:\\Users\\AM\\Al và ứng dụng"
   ]
  },
  {
   "cell_type": "code",
   "execution_count": null,
   "metadata": {},
   "outputs": [],
   "source": []
  }
 ],
 "metadata": {
  "kernelspec": {
   "display_name": "Python 3",
   "language": "python",
   "name": "python3"
  },
  "language_info": {
   "codemirror_mode": {
    "name": "ipython",
    "version": 3
   },
   "file_extension": ".py",
   "mimetype": "text/x-python",
   "name": "python",
   "nbconvert_exporter": "python",
   "pygments_lexer": "ipython3",
   "version": "3.7.0"
  }
 },
 "nbformat": 4,
 "nbformat_minor": 2
}
