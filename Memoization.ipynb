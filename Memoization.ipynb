{
 "cells": [
  {
   "cell_type": "markdown",
   "metadata": {},
   "source": [
    "# Theo dõi lời gọi hàm"
   ]
  },
  {
   "cell_type": "code",
   "execution_count": 12,
   "metadata": {},
   "outputs": [
    {
     "data": {
      "text/plain": [
       "[(0, 3), (1, 5), (2, 3), (3, 2), (4, 1), (5, 1)]"
      ]
     },
     "execution_count": 12,
     "metadata": {},
     "output_type": "execute_result"
    }
   ],
   "source": [
    "\n",
    "call_counter = {}\n",
    "def fibonacci(n):\n",
    "    \"\"\" Returns the nth Fibonacci number. \"\"\"\n",
    "    # Count the call\n",
    "    if n not in call_counter:\n",
    "        call_counter[n] = 1\n",
    "    else:\n",
    "        call_counter[n] += 1\n",
    "        \n",
    "    if n <= 0:\n",
    "        return 0\n",
    "    elif n == 1:\n",
    "        return 1\n",
    "    else:\n",
    "        return fibonacci(n - 2) + fibonacci(n - 1)\n",
    "fibonacci(5)\n",
    "sorted(call_counter.items())"
   ]
  },
  {
   "cell_type": "markdown",
   "metadata": {},
   "source": [
    "Ta thấy có những trường hợp gọi lại quá 2 lần như f(0), f(1), f(2), f(3) để tránh được phải gọi lại những công việc đã thực hiện thì trong Python ta có một kỹ thuật gọi lại bộ nhớ memorization.\n",
    "Memorization là một kỹ thuật thiết kế thuật toán ghi lại kết quả của một phép tính cụ thể để kết quả có thể được sử dụng nếu cần sau này trong quá trình thực thi thuật toán.\n",
    "\n",
    "Khi chương trình cần kết quả của một phép tính giống hệt nhau trong tương lai nếu chỉ cần đọc bản ghi nhớ với câu trả lời đã được lưu trữ trước đó. Theo cách này, chương trình\n",
    "tránh lặp lại công việc. Nhờ nó mà tăng tốc các chương trình, có thể được sử dụng để tối ưu các chương trình sử dụng đệ quy."
   ]
  },
  {
   "cell_type": "code",
   "execution_count": 13,
   "metadata": {},
   "outputs": [
    {
     "data": {
      "text/plain": [
       "{0: 0, 1: 1, 2: 1, 3: 2, 4: 3, 5: 5, 6: 8, 7: 13, 8: 21, 9: 34}"
      ]
     },
     "execution_count": 13,
     "metadata": {},
     "output_type": "execute_result"
    }
   ],
   "source": [
    "ans = {0:0, 1:1} # Precompute the results for 0 and 1\n",
    "def fibonacci2(n):\n",
    "    if n not in ans.keys():\n",
    "        result = fibonacci2(n - 2) + fibonacci2(n - 1)\n",
    "        ans[n] = result\n",
    "    return ans[n]\n",
    "fibonacci2(9)\n",
    "ans"
   ]
  },
  {
   "cell_type": "code",
   "execution_count": 16,
   "metadata": {},
   "outputs": [
    {
     "data": {
      "text/plain": [
       "{0: 0, 1: 1, 2: 1, 3: 2, 4: 3, 5: 5, 6: 8, 7: 13, 8: 21, 9: 34}"
      ]
     },
     "execution_count": 16,
     "metadata": {},
     "output_type": "execute_result"
    }
   ],
   "source": [
    "def fibonacci3(n):\n",
    "    # Local dictionary for caching the results of the fib function\n",
    "    ans = {0:0, 1:1} # Precompute the results for 0 and 1\n",
    "    # Local function\n",
    "    def fib(n):\n",
    "        nonlocal ans\n",
    "        if n not in ans.keys():\n",
    "            result = fib(n - 2) + fib(n - 1)\n",
    "            ans[n] = result\n",
    "        return ans[n]\n",
    "    \n",
    "    return fib(n)\n",
    "fibonacci3(9)\n",
    "ans"
   ]
  },
  {
   "cell_type": "code",
   "execution_count": 1,
   "metadata": {},
   "outputs": [
    {
     "ename": "SyntaxError",
     "evalue": "invalid syntax (<ipython-input-1-2c3655416398>, line 1)",
     "output_type": "error",
     "traceback": [
      "\u001b[1;36m  File \u001b[1;32m\"<ipython-input-1-2c3655416398>\"\u001b[1;36m, line \u001b[1;32m1\u001b[0m\n\u001b[1;33m    *(sample.c, */_method)\u001b[0m\n\u001b[1;37m                 ^\u001b[0m\n\u001b[1;31mSyntaxError\u001b[0m\u001b[1;31m:\u001b[0m invalid syntax\n"
     ]
    }
   ],
   "source": [
    "/* sample.c */_method\n",
    "#include <math.h>\n",
    "/* Compute the greatest common divisor */\n",
    "int gcd(int x, int y) {\n",
    "    int g = y;\n",
    "    while (x > 0) {\n",
    "        g = x;\n",
    "        x = y % x;\n",
    "        y = g;\n",
    "    }\n",
    "    return g;\n",
    "}"
   ]
  },
  {
   "cell_type": "code",
   "execution_count": null,
   "metadata": {},
   "outputs": [],
   "source": []
  }
 ],
 "metadata": {
  "kernelspec": {
   "display_name": "Python 3",
   "language": "python",
   "name": "python3"
  },
  "language_info": {
   "codemirror_mode": {
    "name": "ipython",
    "version": 3
   },
   "file_extension": ".py",
   "mimetype": "text/x-python",
   "name": "python",
   "nbconvert_exporter": "python",
   "pygments_lexer": "ipython3",
   "version": "3.7.0"
  }
 },
 "nbformat": 4,
 "nbformat_minor": 2
}
